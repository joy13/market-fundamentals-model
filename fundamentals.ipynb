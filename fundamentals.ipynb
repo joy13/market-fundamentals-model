{
 "metadata": {
  "name": ""
 },
 "nbformat": 3,
 "nbformat_minor": 0,
 "worksheets": [
  {
   "cells": [
    {
     "cell_type": "code",
     "collapsed": false,
     "input": [
      "import pandas as pd\n",
      "import numpy as np\n",
      "import math\n",
      "import copy\n",
      "import QSTK.qstkutil.qsdateutil as du\n",
      "import datetime as dt\n",
      "import QSTK.qstkutil.DataAccess as da\n",
      "import QSTK.qstkutil.tsutil as tsu\n",
      "import QSTK.qstkstudy.EventProfiler as ep\n",
      "import csv\n",
      "import sys\n",
      "import matplotlib.pyplot as plt\n",
      "from LinRegLearner import LinRegLearner\n",
      "import operator\n",
      "from operator import itemgetter\n",
      "import matplotlib"
     ],
     "language": "python",
     "metadata": {},
     "outputs": [],
     "prompt_number": 2
    },
    {
     "cell_type": "code",
     "collapsed": false,
     "input": [
      "def isNumber(s):\n",
      "    try:\n",
      "        float(s)\n",
      "        return True\n",
      "    except ValueError:\n",
      "        return False\n",
      "    \n",
      "def findCorrelation(attribute,changes):\n",
      "    return np.corrcoef(attribute,changes,rowvar=0)[0,1]\n",
      "\n",
      "\n",
      "def writeToFile(fname,orderkeys,corr):\n",
      "    with open(fname,'wb') as csvfile:\n",
      "        w=csv.writer(csvfile,delimiter=',')\n",
      "        for i in range(len(orderkeys)):\n",
      "            w.writerow((orderkeys[i],corr[i]))\n",
      "\n",
      "def plotGraph(orderkeys,corr,year):\n",
      "    feature_list=np.arange(0,len(orderkeys))\n",
      "    plt.plot(feature_list,corr)\n",
      "    plt.xlabel('Features')\n",
      "    plt.ylabel('Correlations')\n",
      "    plt.title(year)\n",
      "    name=str(year)+'corr.png'\n",
      "    plt.savefig(name)\n",
      "    plt.show()\n",
      "    \n",
      "def getstats(Y, YTest):\n",
      "    Y=np.reshape(Y,(len(Y),1))\n",
      "    YTest=np.reshape(YTest,(len(YTest),1))\n",
      "    diff = Y - YTest\n",
      "    diff = diff**2\n",
      "    summ = diff.sum()\n",
      "    rms = math.sqrt(summ/len(YTest))\n",
      "    corr = findCorrelation(Y,YTest)\n",
      "    return rms,corr"
     ],
     "language": "python",
     "metadata": {},
     "outputs": []
    },
    {
     "cell_type": "code",
     "collapsed": false,
     "input": [
      "def getPercentageChange(sp500list,year,month,date):\n",
      "    dt_start = dt.datetime(int(year), int(month), date)\n",
      "    dt_end = dt.datetime(int(year)+1, int(month), date)\n",
      "    ldt_timestamps = du.getNYSEdays(dt_start, dt_end, dt.timedelta(hours=16))\n",
      "    dataobj = da.DataAccess('Yahoo')\n",
      "    ls_symbols = dataobj.get_symbols_from_list(sp500list)\n",
      "    ls_keys = ['close']\n",
      "    ldf_data = dataobj.get_data(ldt_timestamps, ls_symbols, ls_keys)\n",
      "    d_data = dict(zip(ls_keys, ldf_data))\n",
      "\n",
      "    for s_key in ls_keys:\n",
      "        d_data[s_key] = d_data[s_key].fillna(method='ffill')\n",
      "        d_data[s_key] = d_data[s_key].fillna(method='bfill')\n",
      "        d_data[s_key] = d_data[s_key].fillna(1.0)\n",
      "    \n",
      "    naPrice = d_data['close'].values\n",
      "    percentChange=naPrice[len(naPrice)-1,:]/naPrice[0,:]-1 #Percentage change \n",
      "    \n",
      "    pChange=dict()\n",
      "    for i,sym in enumerate(ls_symbols):\n",
      "        pChange[sym]=percentChange[i]\n",
      "    return pChange"
     ],
     "language": "python",
     "metadata": {},
     "outputs": []
    },
    {
     "cell_type": "code",
     "collapsed": false,
     "input": [
      "def getFeatures():\n",
      "    DATA_DIR = 'data/'\n",
      "    features = []\n",
      "    with open(DATA_DIR+'impFeatureName.txt','rb') as f:\n",
      "        for line in f:\n",
      "            features.append(line)\n",
      "    print features"
     ],
     "language": "python",
     "metadata": {},
     "outputs": [],
     "prompt_number": 8
    },
    {
     "cell_type": "code",
     "collapsed": false,
     "input": [
      "\n",
      "getFeatures()"
     ],
     "language": "python",
     "metadata": {},
     "outputs": [
      {
       "ename": "IOError",
       "evalue": "[Errno 2] No such file or directory: 'data/impFeatureName.txt'",
       "output_type": "pyerr",
       "traceback": [
        "\u001b[0;31m---------------------------------------------------------------------------\u001b[0m\n\u001b[0;31mIOError\u001b[0m                                   Traceback (most recent call last)",
        "\u001b[0;32m<ipython-input-9-87efbf3330b9>\u001b[0m in \u001b[0;36m<module>\u001b[0;34m()\u001b[0m\n\u001b[1;32m      1\u001b[0m \u001b[0;34m\u001b[0m\u001b[0m\n\u001b[0;32m----> 2\u001b[0;31m \u001b[0mgetFeatures\u001b[0m\u001b[0;34m(\u001b[0m\u001b[0;34m)\u001b[0m\u001b[0;34m\u001b[0m\u001b[0m\n\u001b[0m",
        "\u001b[0;32m<ipython-input-8-f91320e356dd>\u001b[0m in \u001b[0;36mgetFeatures\u001b[0;34m()\u001b[0m\n\u001b[1;32m      2\u001b[0m     \u001b[0mDATA_DIR\u001b[0m \u001b[0;34m=\u001b[0m \u001b[0;34m'data/'\u001b[0m\u001b[0;34m\u001b[0m\u001b[0m\n\u001b[1;32m      3\u001b[0m     \u001b[0mfeatures\u001b[0m \u001b[0;34m=\u001b[0m \u001b[0;34m[\u001b[0m\u001b[0;34m]\u001b[0m\u001b[0;34m\u001b[0m\u001b[0m\n\u001b[0;32m----> 4\u001b[0;31m     \u001b[0;32mwith\u001b[0m \u001b[0mopen\u001b[0m\u001b[0;34m(\u001b[0m\u001b[0mDATA_DIR\u001b[0m\u001b[0;34m+\u001b[0m\u001b[0;34m'impFeatureName.txt'\u001b[0m\u001b[0;34m,\u001b[0m\u001b[0;34m'rb'\u001b[0m\u001b[0;34m)\u001b[0m \u001b[0;32mas\u001b[0m \u001b[0mf\u001b[0m\u001b[0;34m:\u001b[0m\u001b[0;34m\u001b[0m\u001b[0m\n\u001b[0m\u001b[1;32m      5\u001b[0m         \u001b[0;32mfor\u001b[0m \u001b[0mline\u001b[0m \u001b[0;32min\u001b[0m \u001b[0mf\u001b[0m\u001b[0;34m:\u001b[0m\u001b[0;34m\u001b[0m\u001b[0m\n\u001b[1;32m      6\u001b[0m             \u001b[0mfeatures\u001b[0m\u001b[0;34m.\u001b[0m\u001b[0mappend\u001b[0m\u001b[0;34m(\u001b[0m\u001b[0mline\u001b[0m\u001b[0;34m)\u001b[0m\u001b[0;34m\u001b[0m\u001b[0m\n",
        "\u001b[0;31mIOError\u001b[0m: [Errno 2] No such file or directory: 'data/impFeatureName.txt'"
       ]
      }
     ],
     "prompt_number": 9
    },
    {
     "cell_type": "code",
     "collapsed": false,
     "input": [],
     "language": "python",
     "metadata": {},
     "outputs": []
    }
   ],
   "metadata": {}
  }
 ]
}